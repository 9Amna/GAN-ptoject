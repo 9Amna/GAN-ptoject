{
  "nbformat": 4,
  "nbformat_minor": 0,
  "metadata": {
    "colab": {
      "name": "github_access.ipynb",
      "provenance": [],
      "collapsed_sections": [],
      "mount_file_id": "1oWMagc06AjCBjeerpnbK8LHIH4wgWHeJ",
      "authorship_tag": "ABX9TyMnVUHAUqseOvFKInEBTp0n",
      "include_colab_link": true
    },
    "kernelspec": {
      "name": "python3",
      "display_name": "Python 3"
    },
    "language_info": {
      "name": "python"
    },
    "gpuClass": "standard",
    "accelerator": "GPU"
  },
  "cells": [
    {
      "cell_type": "markdown",
      "metadata": {
        "id": "view-in-github",
        "colab_type": "text"
      },
      "source": [
        "<a href=\"https://colab.research.google.com/github/Amna-Bouaine/GAN-project/blob/main/github_access.ipynb\" target=\"_parent\"><img src=\"https://colab.research.google.com/assets/colab-badge.svg\" alt=\"Open In Colab\"/></a>"
      ]
    },
    {
      "cell_type": "code",
      "execution_count": 1,
      "metadata": {
        "colab": {
          "base_uri": "https://localhost:8080/"
        },
        "id": "76ueu1Z_j9FL",
        "outputId": "db13f4ec-50b7-49b1-bbc2-3e915321758e"
      },
      "outputs": [
        {
          "output_type": "stream",
          "name": "stdout",
          "text": [
            "Cloning into 'GAN-project'...\n",
            "remote: Enumerating objects: 199, done.\u001b[K\n",
            "remote: Counting objects: 100% (48/48), done.\u001b[K\n",
            "remote: Compressing objects: 100% (31/31), done.\u001b[K\n",
            "remote: Total 199 (delta 24), reused 41 (delta 17), pack-reused 151\u001b[K\n",
            "Receiving objects: 100% (199/199), 583.02 KiB | 5.50 MiB/s, done.\n",
            "Resolving deltas: 100% (117/117), done.\n"
          ]
        }
      ],
      "source": [
        "!git clone https://github.com/Amna-Bouaine/GAN-project.git"
      ]
    },
    {
      "cell_type": "code",
      "source": [
        "%cd ./GAN-project/\n",
        "!ls"
      ],
      "metadata": {
        "colab": {
          "base_uri": "https://localhost:8080/"
        },
        "id": "qgJQijE-kKBe",
        "outputId": "c6cbfcea-5d3f-4692-9bcc-787697bbae5c"
      },
      "execution_count": 2,
      "outputs": [
        {
          "output_type": "stream",
          "name": "stdout",
          "text": [
            "/content/GAN-project\n",
            "eval.py  exxtraction_teeth_contour.py  train.py\n"
          ]
        }
      ]
    },
    {
      "cell_type": "code",
      "source": [
        "#!python train.py --BATCH_SIZE 32 --device 'cuda' --resume '' --EPOCH 60"
      ],
      "metadata": {
        "id": "dcLVKjkkkO4u"
      },
      "execution_count": 3,
      "outputs": []
    },
    {
      "cell_type": "code",
      "source": [
        "!python eval.py"
      ],
      "metadata": {
        "id": "l7n-0Mnko54W",
        "colab": {
          "base_uri": "https://localhost:8080/"
        },
        "outputId": "18801775-147a-404f-9ad6-b8272f383a02"
      },
      "execution_count": 81,
      "outputs": [
        {
          "output_type": "stream",
          "name": "stdout",
          "text": [
            "Namespace(BATCH_SIZE=8, EPOCH=30, LAMBDA=100.0, MEAN=(0.5, 0.5, 0.5), RESIZE=256, STD=(0.5, 0.5, 0.5), betas=(0.5, 0.999), device='cuda', kernel_size=3, lr=0.0002, optimizer_d='ADAM', optimizer_g='ADAM', pool_size=None, resume='/content/drive/MyDrive/saving_D30.pth', root_path='/content/drive/MyDrive/Data_pix2pix_complet', stride=1)\n"
          ]
        }
      ]
    },
    {
      "cell_type": "code",
      "source": [
        "#!rm -r /content/GAN-project"
      ],
      "metadata": {
        "id": "6N4e07eMkWYj"
      },
      "execution_count": 71,
      "outputs": []
    },
    {
      "cell_type": "code",
      "source": [
        ""
      ],
      "metadata": {
        "id": "vgDBUBfbwCe4"
      },
      "execution_count": 60,
      "outputs": []
    }
  ]
}